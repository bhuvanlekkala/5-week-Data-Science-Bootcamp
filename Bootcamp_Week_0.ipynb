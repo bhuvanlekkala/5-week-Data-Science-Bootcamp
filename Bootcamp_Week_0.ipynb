{
  "nbformat": 4,
  "nbformat_minor": 0,
  "metadata": {
    "colab": {
      "name": "Bootcamp Week 0.ipynb",
      "provenance": [],
      "collapsed_sections": [],
      "authorship_tag": "ABX9TyMixzIpJAzcLA/xVKk4dd/i",
      "include_colab_link": true
    },
    "kernelspec": {
      "name": "python3",
      "display_name": "Python 3"
    },
    "language_info": {
      "name": "python"
    }
  },
  "cells": [
    {
      "cell_type": "markdown",
      "metadata": {
        "id": "view-in-github",
        "colab_type": "text"
      },
      "source": [
        "<a href=\"https://colab.research.google.com/github/bhuvanlekkala/bhuvanlekkala/blob/main/Bootcamp_Week_0.ipynb\" target=\"_parent\"><img src=\"https://colab.research.google.com/assets/colab-badge.svg\" alt=\"Open In Colab\"/></a>"
      ]
    },
    {
      "cell_type": "code",
      "execution_count": null,
      "metadata": {
        "colab": {
          "base_uri": "https://localhost:8080/"
        },
        "id": "lFU7yz9cohqP",
        "outputId": "702fe552-450f-467b-a529-a545dfef78e8"
      },
      "outputs": [
        {
          "output_type": "stream",
          "name": "stdout",
          "text": [
            "helo bhuvan\n"
          ]
        }
      ],
      "source": [
        "print(\"helo bhuvan\")"
      ]
    },
    {
      "cell_type": "markdown",
      "source": [
        "**Comments**"
      ],
      "metadata": {
        "id": "4VfbYMXlpdNo"
      }
    },
    {
      "cell_type": "code",
      "source": [
        "# bhuvan keep the pace and write the code"
      ],
      "metadata": {
        "id": "mO2lP7rfpqLP"
      },
      "execution_count": null,
      "outputs": []
    },
    {
      "cell_type": "markdown",
      "source": [
        "**OPERATORS-Arithmetic,Logical,Bitwise Etc**"
      ],
      "metadata": {
        "id": "nJf3g1jwpzLx"
      }
    },
    {
      "cell_type": "code",
      "source": [
        "x=2\n",
        "y=3\n",
        "print(x+y) #Addition\n",
        "print(x-y) #Subtraction\n",
        "print(x*y) #Multiplication\n",
        "print(x/y)  #Divide/division\n",
        "print(x%y)  #modulus-remainder of division operated by left\n",
        "print(x//y) #floor division result is whole no\n",
        "print(x**y) #exponent-x to the power of y"
      ],
      "metadata": {
        "colab": {
          "base_uri": "https://localhost:8080/"
        },
        "id": "k6Ti3PefqcpL",
        "outputId": "eb431551-f921-4cfb-cc65-2fe972a87a13"
      },
      "execution_count": null,
      "outputs": [
        {
          "output_type": "stream",
          "name": "stdout",
          "text": [
            "5\n",
            "-1\n",
            "6\n",
            "0.6666666666666666\n",
            "2\n",
            "0\n",
            "8\n"
          ]
        }
      ]
    },
    {
      "cell_type": "markdown",
      "source": [
        "Comparison Operator\n"
      ],
      "metadata": {
        "id": "0StfluAusY9S"
      }
    },
    {
      "cell_type": "code",
      "source": [
        "5<1 #compare two values "
      ],
      "metadata": {
        "colab": {
          "base_uri": "https://localhost:8080/"
        },
        "id": "8vbDP474qyj8",
        "outputId": "363ae16d-2353-450d-cce5-e7be8f72a836"
      },
      "execution_count": null,
      "outputs": [
        {
          "output_type": "execute_result",
          "data": {
            "text/plain": [
              "False"
            ]
          },
          "metadata": {},
          "execution_count": 6
        }
      ]
    },
    {
      "cell_type": "code",
      "source": [
        "5>1 #gives True or False(Boolean type)"
      ],
      "metadata": {
        "colab": {
          "base_uri": "https://localhost:8080/"
        },
        "id": "qP-R4L7rsn9O",
        "outputId": "30e6fec6-1420-4c22-bd07-c3d4ace29147"
      },
      "execution_count": null,
      "outputs": [
        {
          "output_type": "execute_result",
          "data": {
            "text/plain": [
              "True"
            ]
          },
          "metadata": {},
          "execution_count": 7
        }
      ]
    },
    {
      "cell_type": "code",
      "source": [
        "\"Bhuvan\"<\"achuth\" #Computers can read numbers easily not alphabets thats why \"\" or '' is used for words or alphabets(Strings)"
      ],
      "metadata": {
        "colab": {
          "base_uri": "https://localhost:8080/"
        },
        "id": "WFsuZtBesrBU",
        "outputId": "aceba23f-114d-4b92-d97b-08e027d4d796"
      },
      "execution_count": null,
      "outputs": [
        {
          "output_type": "execute_result",
          "data": {
            "text/plain": [
              "True"
            ]
          },
          "metadata": {},
          "execution_count": 8
        }
      ]
    },
    {
      "cell_type": "code",
      "source": [
        "# Comparison operators meaning\n",
        "x>y #x Greater than y\n",
        "x<y #x Less than y\n",
        "x==y  #x equal to y\n",
        "x!=y   #x not equal to y\n",
        "x>=y   #x graterthan or equal to y\n",
        "x<=y   #x lessthan or  equal to y"
      ],
      "metadata": {
        "colab": {
          "base_uri": "https://localhost:8080/"
        },
        "id": "ctP-N_N-tIww",
        "outputId": "8a77cba2-b84c-49a4-fef6-856c4bcc0a64"
      },
      "execution_count": null,
      "outputs": [
        {
          "output_type": "execute_result",
          "data": {
            "text/plain": [
              "True"
            ]
          },
          "metadata": {},
          "execution_count": 9
        }
      ]
    },
    {
      "cell_type": "markdown",
      "source": [
        "Logical operations"
      ],
      "metadata": {
        "id": "2Dl4f-PrvGLj"
      }
    },
    {
      "cell_type": "code",
      "source": [
        "x=3\n",
        "\n",
        "x<1 and  x<7"
      ],
      "metadata": {
        "colab": {
          "base_uri": "https://localhost:8080/"
        },
        "id": "49iOp9cnvKTD",
        "outputId": "252f5e8b-667f-46ba-976d-b76624dff3b0"
      },
      "execution_count": null,
      "outputs": [
        {
          "output_type": "execute_result",
          "data": {
            "text/plain": [
              "False"
            ]
          },
          "metadata": {},
          "execution_count": 15
        }
      ]
    },
    {
      "cell_type": "code",
      "source": [
        "x=3\n",
        "x<3 or x<5"
      ],
      "metadata": {
        "colab": {
          "base_uri": "https://localhost:8080/"
        },
        "id": "x7DwEb5xv2Q7",
        "outputId": "9036d7af-e356-4ed6-9210-834a9ec72d5f"
      },
      "execution_count": null,
      "outputs": [
        {
          "output_type": "execute_result",
          "data": {
            "text/plain": [
              "True"
            ]
          },
          "metadata": {},
          "execution_count": 1
        }
      ]
    },
    {
      "cell_type": "code",
      "source": [
        "x=3\n",
        "\n",
        "\n",
        "not(x<1 and x<7)"
      ],
      "metadata": {
        "colab": {
          "base_uri": "https://localhost:8080/"
        },
        "outputId": "08bb6168-29cb-4124-9bc5-5296e8afba2b",
        "id": "WFiz1DF0wlNP"
      },
      "execution_count": null,
      "outputs": [
        {
          "output_type": "execute_result",
          "data": {
            "text/plain": [
              "True"
            ]
          },
          "metadata": {},
          "execution_count": 2
        }
      ]
    },
    {
      "cell_type": "markdown",
      "source": [
        "  Variables\n"
      ],
      "metadata": {
        "id": "vjoseCbFw8a2"
      }
    },
    {
      "cell_type": "code",
      "source": [
        "#Varibale is a container for storing values\n",
        "x=5\n",
        "y=\"bhuvan\" "
      ],
      "metadata": {
        "id": "B2eox18AxAp9"
      },
      "execution_count": null,
      "outputs": []
    },
    {
      "cell_type": "markdown",
      "source": [
        "Print Function\n",
        "\n"
      ],
      "metadata": {
        "id": "h8rCXCqlDmum"
      }
    },
    {
      "cell_type": "code",
      "source": [
        "#print is a function  will prints or shows the output inside parathesis or semicolans\n",
        "print(\"bhuvan lekkala is great\")"
      ],
      "metadata": {
        "id": "pd3ekCfBDozd"
      },
      "execution_count": null,
      "outputs": []
    },
    {
      "cell_type": "markdown",
      "source": [
        "Input Function"
      ],
      "metadata": {
        "id": "k8sAP3ibET5Q"
      }
    },
    {
      "cell_type": "code",
      "source": [
        "#input is a function used to get answer from question\n",
        "x=input(\"bhuvan what is your age??\")"
      ],
      "metadata": {
        "colab": {
          "base_uri": "https://localhost:8080/"
        },
        "id": "F0ocm4TbEXCG",
        "outputId": "02831394-6998-4bf4-e015-26173c502042"
      },
      "execution_count": null,
      "outputs": [
        {
          "name": "stdout",
          "output_type": "stream",
          "text": [
            "bhuvan what is your age??22\n"
          ]
        }
      ]
    },
    {
      "cell_type": "markdown",
      "source": [
        "Data Structures, Data Types and Strings in Python\n"
      ],
      "metadata": {
        "id": "XjJO7VXEFJK_"
      }
    },
    {
      "cell_type": "markdown",
      "source": [
        "Data structure is a data organization, management, and storage format that enables efficient access and modification. More precisely, a data structure is a collection of data values, the relationships among them, and the functions or operations that can be applied to the data.\n"
      ],
      "metadata": {
        "id": "n8KK74w7GlJl"
      }
    },
    {
      "cell_type": "code",
      "source": [
        "# type is used to know that type of data it is.\n",
        "a=4\n",
        "type(a)"
      ],
      "metadata": {
        "colab": {
          "base_uri": "https://localhost:8080/"
        },
        "id": "cN-r8tZyGopz",
        "outputId": "c0746daa-05c4-4412-fbcb-549b21898e8b"
      },
      "execution_count": null,
      "outputs": [
        {
          "output_type": "execute_result",
          "data": {
            "text/plain": [
              "int"
            ]
          },
          "metadata": {},
          "execution_count": 4
        }
      ]
    },
    {
      "cell_type": "code",
      "source": [
        "b=4.5\n",
        "type(b)"
      ],
      "metadata": {
        "colab": {
          "base_uri": "https://localhost:8080/"
        },
        "id": "BLFP_FV3GyGo",
        "outputId": "fe0fc5e4-9fcf-4dba-b2a5-109acb98be4f"
      },
      "execution_count": null,
      "outputs": [
        {
          "output_type": "execute_result",
          "data": {
            "text/plain": [
              "float"
            ]
          },
          "metadata": {},
          "execution_count": 5
        }
      ]
    },
    {
      "cell_type": "code",
      "source": [
        "c=\"bhuvan\"\n",
        "type(c)"
      ],
      "metadata": {
        "colab": {
          "base_uri": "https://localhost:8080/"
        },
        "id": "EPlaxQ-8G2Vn",
        "outputId": "d2fc2273-9552-4e5c-d800-967cbe2606d3"
      },
      "execution_count": null,
      "outputs": [
        {
          "output_type": "execute_result",
          "data": {
            "text/plain": [
              "str"
            ]
          },
          "metadata": {},
          "execution_count": 7
        }
      ]
    },
    {
      "cell_type": "code",
      "source": [
        "boolvar=False\n",
        "type(boolvar)"
      ],
      "metadata": {
        "colab": {
          "base_uri": "https://localhost:8080/"
        },
        "id": "FJIzHyDJG7V6",
        "outputId": "5534f46a-71eb-4f08-afb1-7da998ee452a"
      },
      "execution_count": null,
      "outputs": [
        {
          "output_type": "execute_result",
          "data": {
            "text/plain": [
              "bool"
            ]
          },
          "metadata": {},
          "execution_count": 8
        }
      ]
    },
    {
      "cell_type": "markdown",
      "source": [
        "Sequence Types-store multiple values in an organized and efficient way\n",
        "(Step by step process so that it makes process easy and fast)\n",
        "\n",
        "---\n",
        "\n",
        "\n"
      ],
      "metadata": {
        "id": "w42L_mEkIGKt"
      }
    },
    {
      "cell_type": "code",
      "source": [
        "#Accessing String Elements\n",
        "a=\"bhuvan\"\n",
        "#indexing is to know the postion of character in a string by numbers starting from zer0(0)\n",
        "print(a[0])\n"
      ],
      "metadata": {
        "colab": {
          "base_uri": "https://localhost:8080/"
        },
        "id": "Cfg5erIiILOY",
        "outputId": "e80502c0-4e95-4fd1-d178-cf3f156f5bea"
      },
      "execution_count": null,
      "outputs": [
        {
          "output_type": "stream",
          "name": "stdout",
          "text": [
            "b\n"
          ]
        }
      ]
    },
    {
      "cell_type": "markdown",
      "source": [
        "String Slicing\n",
        "slicing is cutting of strings(letters)"
      ],
      "metadata": {
        "id": "_SHJYrdWJwvr"
      }
    },
    {
      "cell_type": "code",
      "source": [
        "a=\"bhuvan lekkala\"\n",
        "# 7 is staring and 14 is ending and i just want only my surname not my name\n",
        "print(a[7:14])"
      ],
      "metadata": {
        "colab": {
          "base_uri": "https://localhost:8080/"
        },
        "id": "NpDAPRgEKIy9",
        "outputId": "22943242-eb1b-4ade-9ed2-8ffdc53cc98d"
      },
      "execution_count": null,
      "outputs": [
        {
          "output_type": "stream",
          "name": "stdout",
          "text": [
            "lekkala\n"
          ]
        }
      ]
    },
    {
      "cell_type": "markdown",
      "source": [
        "Negative Indexing\n",
        "it is same as indexing or slicing but from backwards"
      ],
      "metadata": {
        "id": "DWf2zGoyL5cQ"
      }
    },
    {
      "cell_type": "code",
      "source": [
        "a=\"bhuvan lekkala\"\n",
        "# it starts from -8 to last no not with 0 because -1 is last no and enterimg nothing refers to last no\n",
        "#because 0 is fixed to something \n",
        "print(a[-8:])"
      ],
      "metadata": {
        "colab": {
          "base_uri": "https://localhost:8080/"
        },
        "id": "TLXrGZrOMmse",
        "outputId": "4521ad53-b324-4f7a-c9b9-d2b3cdfc71ea"
      },
      "execution_count": null,
      "outputs": [
        {
          "output_type": "stream",
          "name": "stdout",
          "text": [
            " lekkala\n"
          ]
        }
      ]
    },
    {
      "cell_type": "markdown",
      "source": [
        "String Concatenation\n"
      ],
      "metadata": {
        "id": "86MF0jlpX-e3"
      }
    },
    {
      "cell_type": "code",
      "source": [
        "x=\"bhuvan\"\n",
        "y=\"lekkala\"\n",
        "# concatination is adding strings #add with + sign\n",
        "z=x+y\n",
        "print(z)"
      ],
      "metadata": {
        "colab": {
          "base_uri": "https://localhost:8080/"
        },
        "id": "yAG-Y5HwYAru",
        "outputId": "f153e9bd-7f8a-443e-adbc-467c2ee58ea6"
      },
      "execution_count": null,
      "outputs": [
        {
          "output_type": "stream",
          "name": "stdout",
          "text": [
            "bhuvanlekkala\n"
          ]
        }
      ]
    },
    {
      "cell_type": "markdown",
      "source": [
        "String Concatenation: Add Space\n"
      ],
      "metadata": {
        "id": "jngU_H6Xy1_g"
      }
    },
    {
      "cell_type": "code",
      "source": [
        "x=\"bhuvan\"\n",
        "y=\"lekkala\"\n",
        "# adding space for strings is same as words\n",
        "print(x+\" \"+y)"
      ],
      "metadata": {
        "colab": {
          "base_uri": "https://localhost:8080/"
        },
        "id": "GptTqElpy8mL",
        "outputId": "b17530ce-7878-4dbc-8682-996b6a3dea58"
      },
      "execution_count": null,
      "outputs": [
        {
          "output_type": "stream",
          "name": "stdout",
          "text": [
            "bhuvan lekkala\n"
          ]
        }
      ]
    },
    {
      "cell_type": "markdown",
      "source": [
        "String Length\n"
      ],
      "metadata": {
        "id": "CqMSnxN9zuY2"
      }
    },
    {
      "cell_type": "code",
      "source": [
        "x=\"bhuvan lekkala\"\n",
        "# length function is used to find length(size) of string same as height\n",
        "print(len(x))"
      ],
      "metadata": {
        "colab": {
          "base_uri": "https://localhost:8080/"
        },
        "id": "SSDrU4rMzvNr",
        "outputId": "e7fcb50b-2041-47a8-83af-6a5bebf68a85"
      },
      "execution_count": null,
      "outputs": [
        {
          "output_type": "stream",
          "name": "stdout",
          "text": [
            "14\n"
          ]
        }
      ]
    },
    {
      "cell_type": "markdown",
      "source": [
        ""
      ],
      "metadata": {
        "id": "w2TnBYup03rg"
      }
    },
    {
      "cell_type": "markdown",
      "source": [
        "Escaping Characters\n",
        "\n"
      ],
      "metadata": {
        "id": "LoxEEijq05CK"
      }
    },
    {
      "cell_type": "code",
      "source": [
        "x=\"How are you doing today\\\"bhuvan?\\\"\"\n",
        "#quotes are represented in \"\" but its defined so we use \\\"(backslash) to print same  \n",
        "print(x)"
      ],
      "metadata": {
        "colab": {
          "base_uri": "https://localhost:8080/"
        },
        "id": "e97hpcgV08M3",
        "outputId": "0b686ff2-2b7c-403b-ac27-dc961ee32813"
      },
      "execution_count": null,
      "outputs": [
        {
          "output_type": "stream",
          "name": "stdout",
          "text": [
            "How are you doing today\"bhuvan?\"\n"
          ]
        }
      ]
    },
    {
      "cell_type": "markdown",
      "source": [
        "The in Syntax\n"
      ],
      "metadata": {
        "id": "qFVPNvKB3Aj9"
      }
    },
    {
      "cell_type": "code",
      "source": [
        "name=\"bhuvan lekkala\"\n",
        "# in is used to find weather letter or string is there in string\n",
        "# gives the result as true or false\n",
        "print(\"z\" in name)\n",
        "print(\"b\" in name)"
      ],
      "metadata": {
        "colab": {
          "base_uri": "https://localhost:8080/"
        },
        "id": "BF2C3u_W3IK1",
        "outputId": "d49bc029-eb39-46d1-86dd-c7e5486971a8"
      },
      "execution_count": null,
      "outputs": [
        {
          "output_type": "stream",
          "name": "stdout",
          "text": [
            "False\n",
            "True\n"
          ]
        }
      ]
    },
    {
      "cell_type": "markdown",
      "source": [
        "Iterate String\n"
      ],
      "metadata": {
        "id": "0qsMeSX84SNf"
      }
    },
    {
      "cell_type": "code",
      "source": [
        "name=\"bhuvan\"\n",
        "# this gives the every single character \n",
        "# any letter or element using in syntax referes to indexing and slicing from first to last:\n",
        "for g in name:\n",
        "    print(g)"
      ],
      "metadata": {
        "colab": {
          "base_uri": "https://localhost:8080/"
        },
        "id": "BMMGCQMt3bNU",
        "outputId": "fd158946-7626-47c3-bed1-e91fb8576136"
      },
      "execution_count": null,
      "outputs": [
        {
          "output_type": "stream",
          "name": "stdout",
          "text": [
            "b\n",
            "h\n",
            "u\n",
            "v\n",
            "a\n",
            "n\n"
          ]
        }
      ]
    },
    {
      "cell_type": "markdown",
      "source": [
        "Immutable String\n"
      ],
      "metadata": {
        "id": "NheCLAKA6-L6"
      }
    },
    {
      "cell_type": "code",
      "source": [
        "x=5\n",
        "# immutable means no change ex:int,float,bool etc fixed, cannot be changed by user\n",
        "print(type(x))"
      ],
      "metadata": {
        "colab": {
          "base_uri": "https://localhost:8080/"
        },
        "id": "KXnwdYjv5M4P",
        "outputId": "d2b704fb-f37f-4ed7-e079-05d0e63cd1be"
      },
      "execution_count": null,
      "outputs": [
        {
          "output_type": "stream",
          "name": "stdout",
          "text": [
            "<class 'int'>\n"
          ]
        }
      ]
    },
    {
      "cell_type": "markdown",
      "source": [
        "IndexError\n"
      ],
      "metadata": {
        "id": "jmeZ2RYq7rwb"
      }
    },
    {
      "cell_type": "code",
      "source": [
        "x=\"bhuvan\"\n",
        "# indexing is refernce just like book with pg no upto 200 \n",
        "# if we call or check in index for 205 page then its error or false \n",
        "indx=x[4]"
      ],
      "metadata": {
        "id": "7Cfi7Ish7Pl8"
      },
      "execution_count": null,
      "outputs": []
    },
    {
      "cell_type": "markdown",
      "source": [
        "Python String .format()\n"
      ],
      "metadata": {
        "id": "sHvFPOjV9E0w"
      }
    },
    {
      "cell_type": "code",
      "source": [
        "x=\"bhuvan is a {} boy\"\n",
        "# we use flowerbracketrs{} for change items just like scores\n",
        "x.format(\"good\")"
      ],
      "metadata": {
        "colab": {
          "base_uri": "https://localhost:8080/",
          "height": 35
        },
        "id": "Ovec0ff09JVA",
        "outputId": "ef11abab-96f2-43e9-e7de-1752e2d8aac6"
      },
      "execution_count": null,
      "outputs": [
        {
          "output_type": "execute_result",
          "data": {
            "text/plain": [
              "'bhuvan is a good boy'"
            ],
            "application/vnd.google.colaboratory.intrinsic+json": {
              "type": "string"
            }
          },
          "metadata": {},
          "execution_count": 24
        }
      ]
    },
    {
      "cell_type": "markdown",
      "source": [
        "String Method .lower()\n"
      ],
      "metadata": {
        "id": "7O-BgvFb-CG3"
      }
    },
    {
      "cell_type": "code",
      "source": [
        "x=\"BHUVAN LEKKALA\"\n",
        "# we use .lower to change to lower case letters\n",
        "print(x.lower())"
      ],
      "metadata": {
        "colab": {
          "base_uri": "https://localhost:8080/"
        },
        "id": "EoSyvz9X9bcj",
        "outputId": "401426e8-cf54-4f08-d443-ff1b30a15b56"
      },
      "execution_count": null,
      "outputs": [
        {
          "output_type": "stream",
          "name": "stdout",
          "text": [
            "bhuvan lekkala\n"
          ]
        }
      ]
    },
    {
      "cell_type": "markdown",
      "source": [
        "String Method .strip()\n"
      ],
      "metadata": {
        "id": "sSJypsoJ-9HZ"
      }
    },
    {
      "cell_type": "code",
      "source": [
        "x='................bhuvan ....lekkala......'\n",
        "# we use this to remove spaces or anything from start and end of string\n",
        "x.strip(\".\",)"
      ],
      "metadata": {
        "colab": {
          "base_uri": "https://localhost:8080/",
          "height": 35
        },
        "id": "DDLnp9Ew-91H",
        "outputId": "c26fc66f-89b0-4c95-b9a0-ba5f0cad87d4"
      },
      "execution_count": null,
      "outputs": [
        {
          "output_type": "execute_result",
          "data": {
            "text/plain": [
              "'bhuvan ....lekkala'"
            ],
            "application/vnd.google.colaboratory.intrinsic+json": {
              "type": "string"
            }
          },
          "metadata": {},
          "execution_count": 30
        }
      ]
    },
    {
      "cell_type": "markdown",
      "source": [
        "String Method .title()\n"
      ],
      "metadata": {
        "id": "FqwT7HDR_6pV"
      }
    },
    {
      "cell_type": "code",
      "source": [
        "x=\"bhuvan lekkala\"\n",
        "# we use this to change into capital letters for starting of words\n",
        "x.title()"
      ],
      "metadata": {
        "colab": {
          "base_uri": "https://localhost:8080/",
          "height": 35
        },
        "id": "X-SsK4LQ_OYk",
        "outputId": "5128eabb-627e-400a-8aae-f13f86241e53"
      },
      "execution_count": null,
      "outputs": [
        {
          "output_type": "execute_result",
          "data": {
            "text/plain": [
              "'Bhuvan Lekkala'"
            ],
            "application/vnd.google.colaboratory.intrinsic+json": {
              "type": "string"
            }
          },
          "metadata": {},
          "execution_count": 31
        }
      ]
    },
    {
      "cell_type": "markdown",
      "source": [
        "String Method .split()\n"
      ],
      "metadata": {
        "id": "xbhGGzRNAdQs"
      }
    },
    {
      "cell_type": "code",
      "source": [
        "x=\"bhuvan lekkala\"\n",
        "# we use this method to split words or letters which we want to split(seperate)\n",
        "x.split(\"a\")"
      ],
      "metadata": {
        "colab": {
          "base_uri": "https://localhost:8080/"
        },
        "id": "GL9WiC4RABb0",
        "outputId": "fa4bf86f-11c1-40d2-e140-f707697422e6"
      },
      "execution_count": null,
      "outputs": [
        {
          "output_type": "execute_result",
          "data": {
            "text/plain": [
              "['bhuv', 'n lekk', 'l', '']"
            ]
          },
          "metadata": {},
          "execution_count": 37
        }
      ]
    },
    {
      "cell_type": "markdown",
      "source": [
        "Python string method .find()\n"
      ],
      "metadata": {
        "id": "IxCSls0KBUq0"
      }
    },
    {
      "cell_type": "code",
      "source": [
        "x=\"bhuvan\"\n",
        "# we use this function to find indexing of element \n",
        "x.find(\"a\")"
      ],
      "metadata": {
        "colab": {
          "base_uri": "https://localhost:8080/"
        },
        "id": "j9mJjz8RBXV-",
        "outputId": "94d2fe96-4666-472e-da21-c615966333ac"
      },
      "execution_count": null,
      "outputs": [
        {
          "output_type": "execute_result",
          "data": {
            "text/plain": [
              "4"
            ]
          },
          "metadata": {},
          "execution_count": 40
        }
      ]
    },
    {
      "cell_type": "markdown",
      "source": [
        "String replace\n"
      ],
      "metadata": {
        "id": "v1_dQjCyCTkO"
      }
    },
    {
      "cell_type": "code",
      "source": [
        "x=\"bhuvan\"\n",
        "# this replaces one with another first one is old, next is new\n",
        "x.replace(\"a\",\"A\")"
      ],
      "metadata": {
        "colab": {
          "base_uri": "https://localhost:8080/",
          "height": 35
        },
        "id": "KZucfsyXBgLz",
        "outputId": "a1920dd5-1216-4890-dd67-b27783581830"
      },
      "execution_count": null,
      "outputs": [
        {
          "output_type": "execute_result",
          "data": {
            "text/plain": [
              "'bhuvAn'"
            ],
            "application/vnd.google.colaboratory.intrinsic+json": {
              "type": "string"
            }
          },
          "metadata": {},
          "execution_count": 43
        }
      ]
    },
    {
      "cell_type": "markdown",
      "source": [
        "String Method .upper()\n"
      ],
      "metadata": {
        "id": "2Xegy43hC8Ja"
      }
    },
    {
      "cell_type": "code",
      "source": [
        "x=\"bhuvan\"\n",
        "# this replaces lower case to uppercase \n",
        "x.upper()"
      ],
      "metadata": {
        "colab": {
          "base_uri": "https://localhost:8080/",
          "height": 35
        },
        "id": "y6dc_r56CY0o",
        "outputId": "2b292245-b220-4eec-bf61-2e049e22ecee"
      },
      "execution_count": null,
      "outputs": [
        {
          "output_type": "execute_result",
          "data": {
            "text/plain": [
              "'BHUVAN'"
            ],
            "application/vnd.google.colaboratory.intrinsic+json": {
              "type": "string"
            }
          },
          "metadata": {},
          "execution_count": 44
        }
      ]
    },
    {
      "cell_type": "markdown",
      "source": [
        "String Method .join()\n"
      ],
      "metadata": {
        "id": "mbTH3AcfDNe0"
      }
    },
    {
      "cell_type": "code",
      "source": [
        "x=\"bhuvan\",\"is\",\"a boy\"\n",
        "# this method is used to join different strings together with options\n",
        "\" \".join(x)\n"
      ],
      "metadata": {
        "colab": {
          "base_uri": "https://localhost:8080/",
          "height": 35
        },
        "id": "ribxUEghDCej",
        "outputId": "7c5dba52-a8a5-4a42-e0ce-576fc06a9475"
      },
      "execution_count": null,
      "outputs": [
        {
          "output_type": "execute_result",
          "data": {
            "text/plain": [
              "'bhuvan is a boy'"
            ],
            "application/vnd.google.colaboratory.intrinsic+json": {
              "type": "string"
            }
          },
          "metadata": {},
          "execution_count": 51
        }
      ]
    },
    {
      "cell_type": "markdown",
      "source": [
        "\n",
        "**Lists**\n",
        "\n",
        "\n",
        "\n"
      ],
      "metadata": {
        "id": "9YuVPEWjNJyW"
      }
    },
    {
      "cell_type": "code",
      "source": [
        "x=[\"bhuvan\",\"eats\",\"chicken\",\"biryani\"]\n",
        "#append means add and it adds at end\n",
        "# lists are changable\n",
        "x.append(\"with\")\n",
        "x.append(\"raitha\")\n",
        "print(x)"
      ],
      "metadata": {
        "id": "udOp965KDlwQ",
        "colab": {
          "base_uri": "https://localhost:8080/"
        },
        "outputId": "ec7eb901-aab7-4bf3-ae6c-4585cdba997b"
      },
      "execution_count": null,
      "outputs": [
        {
          "output_type": "stream",
          "name": "stdout",
          "text": [
            "['bhuvan', 'eats', 'chicken', 'biryani', 'with', 'raitha']\n"
          ]
        }
      ]
    },
    {
      "cell_type": "code",
      "source": [
        "x=[\"bhuvan\",\"eats\",\"chicken\",\"biryani\"]\n",
        "# insert with comming in the middle or adding in middle\n",
        "# indexing is used to place on where we want to put it  \n",
        "x.insert(2,\"raitha\")\n",
        "x.insert(3,\"with\")\n",
        "print(x)"
      ],
      "metadata": {
        "colab": {
          "base_uri": "https://localhost:8080/"
        },
        "id": "JEsvnBqIXt-Q",
        "outputId": "d0a772b7-e8e8-4934-e7e2-a390f9ece8f4"
      },
      "execution_count": null,
      "outputs": [
        {
          "output_type": "stream",
          "name": "stdout",
          "text": [
            "['bhuvan', 'eats', 'raitha', 'with', 'chicken', 'biryani']\n"
          ]
        }
      ]
    },
    {
      "cell_type": "code",
      "source": [
        "x=[\"bhuvan\",\"eats\",\"chicken\",\"biryani\"]\n",
        "y=[\"and\",\"chapathi\"]\n",
        "# just like adding strings adding lists \n",
        "z=x+y\n",
        "print(z)"
      ],
      "metadata": {
        "colab": {
          "base_uri": "https://localhost:8080/"
        },
        "id": "Icq_C0JwZMuB",
        "outputId": "a9984619-dc1b-4e19-e83f-202111fc8b3c"
      },
      "execution_count": null,
      "outputs": [
        {
          "output_type": "stream",
          "name": "stdout",
          "text": [
            "['bhuvan', 'eats', 'chicken', 'biryani', 'and', 'chapathi']\n"
          ]
        }
      ]
    },
    {
      "cell_type": "code",
      "source": [
        "x=[\"bhuvan\",\"eats\",\"choclate\" ,\"5 star\",\"choclate\",]\n",
        "#  it will count how many times which we want to search \n",
        "x.count(\"choclate\")"
      ],
      "metadata": {
        "colab": {
          "base_uri": "https://localhost:8080/"
        },
        "id": "SJWoujQPaucV",
        "outputId": "9f7e6375-9b6f-4927-8730-092b8a67b3e8"
      },
      "execution_count": null,
      "outputs": [
        {
          "output_type": "execute_result",
          "data": {
            "text/plain": [
              "2"
            ]
          },
          "metadata": {},
          "execution_count": 24
        }
      ]
    },
    {
      "cell_type": "code",
      "source": [
        "x=[55,99,35,89]\n",
        "# it makes things in right place genrally ascending order(small to big)\n",
        "# not apply for strings because these are words how??\n",
        "x.sort()\n",
        "print(x)"
      ],
      "metadata": {
        "colab": {
          "base_uri": "https://localhost:8080/"
        },
        "id": "Xl4vRKTJbzzb",
        "outputId": "21048084-5b88-4bcc-f954-ab4fb5055e66"
      },
      "execution_count": null,
      "outputs": [
        {
          "output_type": "stream",
          "name": "stdout",
          "text": [
            "[35, 55, 89, 99]\n"
          ]
        }
      ]
    },
    {
      "cell_type": "markdown",
      "source": [
        "**Tuple**"
      ],
      "metadata": {
        "id": "G8JppHWmfIq7"
      }
    },
    {
      "cell_type": "code",
      "source": [
        "# tuple is like exam once submitted cannot be changed\n",
        "x=(\"bhuvan\",\"eats\",1,\"chapathi\")\n",
        "# added by only concatination(adding) no append etc\n",
        "y=(\"divesh\",\"eats\",2,\"chapathi\")\n",
        "z=x+y\n",
        "print(z)"
      ],
      "metadata": {
        "colab": {
          "base_uri": "https://localhost:8080/"
        },
        "id": "l9A9aa8DeDDZ",
        "outputId": "0ddda7b5-9df3-4ac9-a369-12d479affb93"
      },
      "execution_count": null,
      "outputs": [
        {
          "output_type": "stream",
          "name": "stdout",
          "text": [
            "('bhuvan', 'eats', 1, 'chapathi', 'divesh', 'eats', 2, 'chapathi')\n"
          ]
        }
      ]
    },
    {
      "cell_type": "code",
      "source": [
        "x=(\"bhuvan\",)*3\n",
        "# this behaves like a*b so we get bhuvan 3 times\n",
        "print(x)"
      ],
      "metadata": {
        "colab": {
          "base_uri": "https://localhost:8080/"
        },
        "id": "DcArvaQVgyWG",
        "outputId": "f47105dc-878b-4881-b54b-7636a17f431b"
      },
      "execution_count": null,
      "outputs": [
        {
          "output_type": "execute_result",
          "data": {
            "text/plain": [
              "('bhuvan', 'bhuvan', 'bhuvan')"
            ]
          },
          "metadata": {},
          "execution_count": 33
        }
      ]
    },
    {
      "cell_type": "code",
      "source": [
        "x=(12,55544,89.3,45)\n",
        "y=(36,55,68,3)\n",
        "# max will give highest no\n",
        "# min gives lowest no\n",
        "print(max(x))\n",
        "print(min(y))\n",
        "# del means delete whole tuple\n",
        "del(y)\n"
      ],
      "metadata": {
        "colab": {
          "base_uri": "https://localhost:8080/"
        },
        "id": "i5yV8ecsjLGC",
        "outputId": "e64ca02c-41b7-4835-d249-be9545afa9de"
      },
      "execution_count": null,
      "outputs": [
        {
          "output_type": "stream",
          "name": "stdout",
          "text": [
            "55544\n",
            "3\n"
          ]
        }
      ]
    },
    {
      "cell_type": "markdown",
      "source": [
        "**Dictionary**"
      ],
      "metadata": {
        "id": "ckpBlthLl2eT"
      }
    },
    {
      "cell_type": "code",
      "source": [
        "# marks list gives people names and result\n",
        "marks={}\n",
        "# this gives the blank dictonary(table) which we can add any thing\n",
        "marks[\"bhuvan\"]=40\n",
        "# the bracket value  reprsents key and right side after = gives value \n",
        "# just  like varibale= value\n",
        "marks[\"divesh\"]=75\n",
        "marks[\"bhaskar\"]=100\n",
        "# bhuvan went for recorrection, bhuvan is fixed but marks may vary\n",
        "marks[\"bhuvan\"]=55\n",
        "# checking names with marks\n",
        "for key, value in marks.items():\n",
        "    print(\"key:\")\n",
        "    print(key)\n",
        "    print(\"value:\")\n",
        "    print(value)\n",
        "    print(\"\")\n"
      ],
      "metadata": {
        "colab": {
          "base_uri": "https://localhost:8080/"
        },
        "id": "izfEEy0Ol5wF",
        "outputId": "4df005d7-a7f2-4c4d-dce9-4ad714e1cbe5"
      },
      "execution_count": null,
      "outputs": [
        {
          "output_type": "stream",
          "name": "stdout",
          "text": [
            "key:\n",
            "bhuvan\n",
            "value:\n",
            "55\n",
            "\n",
            "key:\n",
            "divesh\n",
            "value:\n",
            "75\n",
            "\n",
            "key:\n",
            "bhaskar\n",
            "value:\n",
            "100\n",
            "\n"
          ]
        }
      ]
    },
    {
      "cell_type": "markdown",
      "source": [
        " **Functions and Packages**"
      ],
      "metadata": {
        "id": "veERuxpy5inl"
      }
    },
    {
      "cell_type": "code",
      "source": [
        "# function is rules given for input which may vary output\n",
        "z=\"58\"\n",
        "# here int function used and changed string to integer\n",
        "# change in small thing resulted something different\n",
        "print(int(z))\n",
        "# new one \n",
        "x=100\n",
        "y=-100\n",
        "# abs gives absolute value means positive value \n",
        "print(abs(y))\n",
        "# if means condition starts \n",
        "# comapring means ==\n",
        "# and function needs to end so colan(:)\n",
        "if x==y:\n",
        "    print(\"both are same\")"
      ],
      "metadata": {
        "colab": {
          "base_uri": "https://localhost:8080/"
        },
        "id": "t4gh_eW25nHW",
        "outputId": "d688b467-72e3-424a-cd5e-03ca58947bac"
      },
      "execution_count": null,
      "outputs": [
        {
          "output_type": "stream",
          "name": "stdout",
          "text": [
            "58\n",
            "100\n"
          ]
        }
      ]
    },
    {
      "cell_type": "code",
      "source": [
        "# round()\n",
        "x=56.369\n",
        "# rounding to near number but after,condition to 1 digit\n",
        "round(x,1)\n",
        "# sum() adding any collection of numbers\n",
        "marks=(10,20,50,75)\n",
        "print(sum(marks))"
      ],
      "metadata": {
        "colab": {
          "base_uri": "https://localhost:8080/"
        },
        "id": "jwrEC8kfASjD",
        "outputId": "cc9d17ee-dfaa-4a9d-c9a9-a98af976fd9a"
      },
      "execution_count": null,
      "outputs": [
        {
          "output_type": "stream",
          "name": "stdout",
          "text": [
            "155\n"
          ]
        }
      ]
    },
    {
      "cell_type": "markdown",
      "source": [
        "**Define Functions**\n"
      ],
      "metadata": {
        "id": "1cAb9kmkfzO4"
      }
    },
    {
      "cell_type": "code",
      "source": [
        "# def represnts express the rules\n",
        "# starting of function and end with colan(:) \n",
        "def pound_to_rupee(inr):\n",
        "    money=inr*100\n",
        "    print(money)\n",
        "    # we can use function and repeat the process\n",
        "pound_to_rupee(10)\n",
        "pound_to_rupee(1)\n",
        "pound_to_rupee(0.2)"
      ],
      "metadata": {
        "colab": {
          "base_uri": "https://localhost:8080/"
        },
        "id": "Cl7lWWpgfN4A",
        "outputId": "468df2d5-2d4e-4b87-fe2f-aeca99ffd274"
      },
      "execution_count": null,
      "outputs": [
        {
          "output_type": "stream",
          "name": "stdout",
          "text": [
            "1000\n",
            "100\n",
            "20.0\n"
          ]
        }
      ]
    },
    {
      "cell_type": "markdown",
      "source": [
        "[**Methods**](https://)"
      ],
      "metadata": {
        "id": "vn8Pl4yyKxZ6"
      }
    },
    {
      "cell_type": "code",
      "source": [
        "# Method is   function type for classifying objects\n",
        "name=\"bhuvan\"\n",
        "# here name is called object and also variable\n",
        "# It will have  the properties and behaviour\n",
        "name.capitalize()"
      ],
      "metadata": {
        "colab": {
          "base_uri": "https://localhost:8080/",
          "height": 35
        },
        "id": "VLdD0DuCK83B",
        "outputId": "370f9447-2d50-4e61-cc89-fd24a5ad2bd2"
      },
      "execution_count": null,
      "outputs": [
        {
          "output_type": "execute_result",
          "data": {
            "text/plain": [
              "'Bhuvan'"
            ],
            "application/vnd.google.colaboratory.intrinsic+json": {
              "type": "string"
            }
          },
          "metadata": {},
          "execution_count": 1
        }
      ]
    },
    {
      "cell_type": "markdown",
      "source": [
        "**Is Methods and Functions same?**"
      ],
      "metadata": {
        "id": "HUftWVhFRFSz"
      }
    },
    {
      "cell_type": "code",
      "source": [
        "# All methods are functions, but not all functions are methods!\\\n",
        "family=\"bhuvan\"\n",
        "# Bhuvan is a type of family member"
      ],
      "metadata": {
        "id": "2D7fpSyzNU6h"
      },
      "execution_count": null,
      "outputs": []
    },
    {
      "cell_type": "markdown",
      "source": [
        "**Packages in Python**"
      ],
      "metadata": {
        "id": "L2D7-gUpR6M_"
      }
    },
    {
      "cell_type": "code",
      "source": [
        "# packages is group of objects\n",
        "university=\"Multiple of courses\"\n",
        "Courses=\"Course contains different modules\"\n",
        "modules=\"module contains different chapters\"\n",
        "# univeristy is package and courses and module is subpackages\n",
        "# packages/modules are made by someone but used  to make developments"
      ],
      "metadata": {
        "id": "tbrfsFffR_ie"
      },
      "execution_count": null,
      "outputs": []
    },
    {
      "cell_type": "markdown",
      "source": [
        "# **Arrays**"
      ],
      "metadata": {
        "id": "nzWXiE95XA0U"
      }
    },
    {
      "cell_type": "code",
      "source": [
        "# array is a collection of items just like lists but with same data types\n",
        "# it will conatin only int, float, string etc in a data type\n"
      ],
      "metadata": {
        "id": "O7OTselfXE7U"
      },
      "execution_count": null,
      "outputs": []
    },
    {
      "cell_type": "code",
      "source": [
        "# vectors is a type of array\n",
        "# One dimensional array is a vector.\n",
        "vector= [1, 2, 3, 4, 5]"
      ],
      "metadata": {
        "id": "aye69PqYYO4U"
      },
      "execution_count": null,
      "outputs": []
    },
    {
      "cell_type": "code",
      "source": [
        "# Matrix is an arrangement of numbers into rows and columns\n",
        "# matrix A has two rows and three columns, we write its shape as 2 X 3, pronounced as ‘two by three’\n"
      ],
      "metadata": {
        "id": "ZbuvoWNIfWva"
      },
      "execution_count": null,
      "outputs": []
    },
    {
      "cell_type": "markdown",
      "source": [
        "**NumPy**"
      ],
      "metadata": {
        "id": "e-0aCwObG9A7"
      }
    },
    {
      "cell_type": "code",
      "source": [
        "# Numpy is a library of numericals or numbers\n",
        "# Just like libraries in colleges and schools \n",
        "# uses for refernce and also for get back and develop\n",
        "# import numpy as np\n",
        "# taking library and np is nick name jus like for humans"
      ],
      "metadata": {
        "id": "pyOp0ldwgP7r"
      },
      "execution_count": null,
      "outputs": []
    },
    {
      "cell_type": "markdown",
      "source": [
        "**Array in NumPy\n",
        "**"
      ],
      "metadata": {
        "id": "4ahVk8gcPt8X"
      }
    },
    {
      "cell_type": "code",
      "source": [
        "# array is data structure \n",
        "# data structure is a sequence or order for arranging the data\n",
        "# ndarray is n-dimensional array eg:1d,2d,3d....nd\n",
        "# vectors and matrices may had 1 or more dimesions"
      ],
      "metadata": {
        "id": "0gIyj95SPCS9"
      },
      "execution_count": null,
      "outputs": []
    },
    {
      "cell_type": "markdown",
      "source": [
        "**Create NumPy Array from Python List\n",
        "**"
      ],
      "metadata": {
        "id": "8m3SnjIgRfq8"
      }
    },
    {
      "cell_type": "code",
      "source": [
        "bhuvan_marks=[40,55,68,75,99,100]\n",
        "# list of marks \n",
        "import numpy as np\n",
        "# lib import as nick name\n",
        "np.marks=np.array(bhuvan_marks)\n",
        "# nickname.any name=lib.data type(my list)\n",
        "np.marks"
      ],
      "metadata": {
        "colab": {
          "base_uri": "https://localhost:8080/"
        },
        "id": "yoi4qVaYREwq",
        "outputId": "b97675e3-c74b-4be5-cb75-e7e60fa21a82"
      },
      "execution_count": null,
      "outputs": [
        {
          "output_type": "execute_result",
          "data": {
            "text/plain": [
              "array([ 40,  55,  68,  75,  99, 100])"
            ]
          },
          "metadata": {},
          "execution_count": 8
        }
      ]
    },
    {
      "cell_type": "markdown",
      "source": [
        "**Compare Python List and NumPy Array\n",
        "**"
      ],
      "metadata": {
        "id": "r8b5O0I_UpLT"
      }
    },
    {
      "cell_type": "code",
      "source": [
        "# python list may contain any data typr but numpy contain same data type\n",
        "# python takes more time and memory but numpy takes less time,steps and memory"
      ],
      "metadata": {
        "id": "eaGky-FJR1Cc"
      },
      "execution_count": null,
      "outputs": []
    },
    {
      "cell_type": "markdown",
      "source": [
        "**Numpy array type**"
      ],
      "metadata": {
        "id": "YT5S3qT2Xn4n"
      }
    },
    {
      "cell_type": "code",
      "source": [
        "import numpy as np\n",
        "# take from lib as nick name\n",
        "bhuvan=np.array([[1,2,3],[5,6,7],[8,99,45],[74,555,698]])\n",
        "# nested list is a list having sublists\n",
        "# the family is nested list having your family,relatives family and their relative family \n",
        "bhuvan\n",
        "# print(bhuvan) is same as bhuvan in new line"
      ],
      "metadata": {
        "colab": {
          "base_uri": "https://localhost:8080/"
        },
        "id": "ETM3mGLRXmn3",
        "outputId": "dc690519-3337-48ce-a4fa-ad62fb8529c6"
      },
      "execution_count": null,
      "outputs": [
        {
          "output_type": "execute_result",
          "data": {
            "text/plain": [
              "array([[  1,   2,   3],\n",
              "       [  5,   6,   7],\n",
              "       [  8,  99,  45],\n",
              "       [ 74, 555, 698]])"
            ]
          },
          "metadata": {},
          "execution_count": 17
        }
      ]
    },
    {
      "cell_type": "code",
      "source": [
        "bhuvan.size\n",
        "# size of bhuvan contrains 12 elements"
      ],
      "metadata": {
        "colab": {
          "base_uri": "https://localhost:8080/"
        },
        "id": "fhowmpu4YXB7",
        "outputId": "9a7c1ea0-2d19-4d52-ddfc-77d1386f7855"
      },
      "execution_count": null,
      "outputs": [
        {
          "output_type": "execute_result",
          "data": {
            "text/plain": [
              "12"
            ]
          },
          "metadata": {},
          "execution_count": 18
        }
      ]
    },
    {
      "cell_type": "code",
      "source": [
        "bhuvan.dtype\n",
        "# integer type and 64 bit computer and 32 bit depends on your computer\n",
        "# 64 bit had more memory allocation than 32bit but if it works fine!"
      ],
      "metadata": {
        "colab": {
          "base_uri": "https://localhost:8080/"
        },
        "id": "0feaoKAiZGaE",
        "outputId": "98501ce0-a634-4f5c-d480-757203bc3fed"
      },
      "execution_count": null,
      "outputs": [
        {
          "output_type": "execute_result",
          "data": {
            "text/plain": [
              "dtype('int64')"
            ]
          },
          "metadata": {},
          "execution_count": 13
        }
      ]
    },
    {
      "cell_type": "code",
      "source": [
        "bhuvan.shape\n",
        "# shape is 4by3, 4(horizontal) rows and 3(vertical) columns"
      ],
      "metadata": {
        "colab": {
          "base_uri": "https://localhost:8080/"
        },
        "id": "mzOVLATEZKrs",
        "outputId": "c5e74738-d7d5-4503-e118-46408f47e8db"
      },
      "execution_count": null,
      "outputs": [
        {
          "output_type": "execute_result",
          "data": {
            "text/plain": [
              "(4, 3)"
            ]
          },
          "metadata": {},
          "execution_count": 19
        }
      ]
    },
    {
      "cell_type": "code",
      "source": [
        "bhuvan.ndim\n",
        "# dimensions is 2d like length*breadth"
      ],
      "metadata": {
        "colab": {
          "base_uri": "https://localhost:8080/"
        },
        "id": "xy9leAbpZL33",
        "outputId": "b354ccc0-3b9a-4ac7-eb3b-6b6f53600c78"
      },
      "execution_count": null,
      "outputs": [
        {
          "output_type": "execute_result",
          "data": {
            "text/plain": [
              "2"
            ]
          },
          "metadata": {},
          "execution_count": 20
        }
      ]
    },
    {
      "cell_type": "code",
      "source": [
        "type(bhuvan)\n",
        "# type gives the what model it is."
      ],
      "metadata": {
        "colab": {
          "base_uri": "https://localhost:8080/"
        },
        "id": "RZr9mPSdZOmx",
        "outputId": "1cea5c04-0cf8-45fc-d418-9d643eed7d32"
      },
      "execution_count": null,
      "outputs": [
        {
          "output_type": "execute_result",
          "data": {
            "text/plain": [
              "numpy.ndarray"
            ]
          },
          "metadata": {},
          "execution_count": 16
        }
      ]
    },
    {
      "cell_type": "markdown",
      "source": [
        "**arange**"
      ],
      "metadata": {
        "id": "CKkoin2YiIi-"
      }
    },
    {
      "cell_type": "code",
      "source": [
        "bhuvan=np.arange(10)\n",
        "# collection of  continous integrs upto the entered value\n",
        "bhuvan"
      ],
      "metadata": {
        "colab": {
          "base_uri": "https://localhost:8080/"
        },
        "id": "ifH-jAP_ZQ5z",
        "outputId": "5578d7ce-0293-4e7f-f06c-d64509ede5c8"
      },
      "execution_count": null,
      "outputs": [
        {
          "output_type": "execute_result",
          "data": {
            "text/plain": [
              "array([0, 1, 2, 3, 4, 5, 6, 7, 8, 9])"
            ]
          },
          "metadata": {},
          "execution_count": 31
        }
      ]
    },
    {
      "cell_type": "code",
      "source": [
        "bhuvan=np.zeros(10)\n",
        "# creates 1dim zeros incl 10 digits\n",
        "bhuvan"
      ],
      "metadata": {
        "colab": {
          "base_uri": "https://localhost:8080/"
        },
        "id": "6ZwupT2fhVcE",
        "outputId": "02ea58b0-58d2-48d2-8d1c-4d73019e901a"
      },
      "execution_count": null,
      "outputs": [
        {
          "output_type": "execute_result",
          "data": {
            "text/plain": [
              "array([0., 0., 0., 0., 0., 0., 0., 0., 0., 0.])"
            ]
          },
          "metadata": {},
          "execution_count": 37
        }
      ]
    },
    {
      "cell_type": "code",
      "source": [
        "bhuvan=np.ones(3)\n",
        "# array of 3 digits 1dim jus like zeros\n",
        "bhuvan"
      ],
      "metadata": {
        "colab": {
          "base_uri": "https://localhost:8080/"
        },
        "id": "3d-S0kdbi3Sb",
        "outputId": "46ae356f-ba16-43b6-f3ef-4e4fe3ebbef9"
      },
      "execution_count": null,
      "outputs": [
        {
          "output_type": "execute_result",
          "data": {
            "text/plain": [
              "array([1., 1., 1.])"
            ]
          },
          "metadata": {},
          "execution_count": 35
        }
      ]
    },
    {
      "cell_type": "code",
      "source": [
        "bhuvan=np.linspace(3,15,8)\n",
        "# start=3,stop=15, num=upto 8 digits incl\n",
        "# with out num it will gives 50 samples\n",
        "bhuvan"
      ],
      "metadata": {
        "colab": {
          "base_uri": "https://localhost:8080/"
        },
        "id": "lHNnVW42jWcd",
        "outputId": "9078ebcf-1f1e-40d8-9a0b-c980cf3be2a2"
      },
      "execution_count": null,
      "outputs": [
        {
          "output_type": "execute_result",
          "data": {
            "text/plain": [
              "array([ 3.        ,  4.71428571,  6.42857143,  8.14285714,  9.85714286,\n",
              "       11.57142857, 13.28571429, 15.        ])"
            ]
          },
          "metadata": {},
          "execution_count": 46
        }
      ]
    },
    {
      "cell_type": "markdown",
      "source": [
        "**Basic Methods, Reshaping and Slicing**"
      ],
      "metadata": {
        "id": "e4Dhx9i9wgS4"
      }
    },
    {
      "cell_type": "code",
      "source": [
        "import numpy as np\n",
        "# imprt lib \n",
        "bhuvan=np.array([2,3,89,6,7,9])\n",
        "# append adds the number/item at last\n",
        "np.append(bhuvan,36)"
      ],
      "metadata": {
        "id": "7ZcMhjplj33d",
        "colab": {
          "base_uri": "https://localhost:8080/"
        },
        "outputId": "ecd0b627-28b7-4c71-afcc-f4605b0f7fc3"
      },
      "execution_count": 7,
      "outputs": [
        {
          "output_type": "execute_result",
          "data": {
            "text/plain": [
              "array([ 2,  3, 89,  6,  7,  9, 36])"
            ]
          },
          "metadata": {},
          "execution_count": 7
        }
      ]
    },
    {
      "cell_type": "code",
      "source": [
        "# sort will arrange in ascending order\n",
        "np.sort(bhuvan)"
      ],
      "metadata": {
        "colab": {
          "base_uri": "https://localhost:8080/"
        },
        "id": "66ebc8RxxDPh",
        "outputId": "e052ecca-5471-4af2-8334-182414c7b465"
      },
      "execution_count": 8,
      "outputs": [
        {
          "output_type": "execute_result",
          "data": {
            "text/plain": [
              "array([ 2,  3,  6,  7,  9, 89])"
            ]
          },
          "metadata": {},
          "execution_count": 8
        }
      ]
    },
    {
      "cell_type": "code",
      "source": [
        "lekkala=np.arange(12)\n",
        "# arange will sort numbers upto the entered value\n",
        "lekkala"
      ],
      "metadata": {
        "colab": {
          "base_uri": "https://localhost:8080/"
        },
        "id": "rtlZziUwBLoa",
        "outputId": "5f8f65f4-b2fc-4c95-fb57-e528b56d646c"
      },
      "execution_count": 10,
      "outputs": [
        {
          "output_type": "execute_result",
          "data": {
            "text/plain": [
              "array([ 0,  1,  2,  3,  4,  5,  6,  7,  8,  9, 10, 11])"
            ]
          },
          "metadata": {},
          "execution_count": 10
        }
      ]
    },
    {
      "cell_type": "code",
      "source": [
        "# arranging can be done for 12 in 3*4,4*3,6*2\n",
        "np.reshape(lekkala,(6,2))"
      ],
      "metadata": {
        "colab": {
          "base_uri": "https://localhost:8080/"
        },
        "id": "S9USqy2qCJPh",
        "outputId": "4e0ef474-e7b3-41c0-853d-1a8696aa9404"
      },
      "execution_count": 26,
      "outputs": [
        {
          "output_type": "execute_result",
          "data": {
            "text/plain": [
              "array([[ 0,  1,  2],\n",
              "       [ 3,  4,  5],\n",
              "       [ 6,  7,  8],\n",
              "       [ 9, 10, 11]])"
            ]
          },
          "metadata": {},
          "execution_count": 26
        }
      ]
    },
    {
      "cell_type": "code",
      "source": [
        "np.reshape(lekkala,(4,3))\n",
        "# different types "
      ],
      "metadata": {
        "colab": {
          "base_uri": "https://localhost:8080/"
        },
        "id": "ARJH9Q3FCeuF",
        "outputId": "9d57c17e-4e7d-47dc-9855-92e5d8642558"
      },
      "execution_count": 27,
      "outputs": [
        {
          "output_type": "execute_result",
          "data": {
            "text/plain": [
              "array([[ 0,  1,  2],\n",
              "       [ 3,  4,  5],\n",
              "       [ 6,  7,  8],\n",
              "       [ 9, 10, 11]])"
            ]
          },
          "metadata": {},
          "execution_count": 27
        }
      ]
    },
    {
      "cell_type": "code",
      "source": [
        "from numpy.core.fromnumeric import ndim\n",
        "b=np.array([12,45,98,8,19])\n",
        "# positive indexing is done from o,1,2,..etc\n",
        "# here 0 is 12, 1 is 45,2 is 98 \n",
        "b[2]"
      ],
      "metadata": {
        "colab": {
          "base_uri": "https://localhost:8080/"
        },
        "id": "yDoF3D_QCrEi",
        "outputId": "46b2aff4-9ded-42c3-97ac-76cd8fc6dd28"
      },
      "execution_count": 36,
      "outputs": [
        {
          "output_type": "execute_result",
          "data": {
            "text/plain": [
              "98"
            ]
          },
          "metadata": {},
          "execution_count": 36
        }
      ]
    },
    {
      "cell_type": "code",
      "source": [
        "np.ndim(2)"
      ],
      "metadata": {
        "colab": {
          "base_uri": "https://localhost:8080/"
        },
        "id": "FasjUxv7Ftlh",
        "outputId": "64ffd7da-3e58-4a8b-a84b-0362f180dc99"
      },
      "execution_count": 34,
      "outputs": [
        {
          "output_type": "execute_result",
          "data": {
            "text/plain": [
              "0"
            ]
          },
          "metadata": {},
          "execution_count": 34
        }
      ]
    },
    {
      "cell_type": "code",
      "source": [
        "# postive indexing in 2d array left to right\n",
        "b=np.array([[12,45,98],\n",
        "            [7,8,19]])\n",
        "# here it is 2d matrix type, 12 is (0,0) 45 is (0,1) indexing\n",
        "b[1,2]"
      ],
      "metadata": {
        "colab": {
          "base_uri": "https://localhost:8080/"
        },
        "id": "NQKknEMWG8xy",
        "outputId": "c6752ef0-2087-4ddc-f811-6e864af3db1d"
      },
      "execution_count": 42,
      "outputs": [
        {
          "output_type": "execute_result",
          "data": {
            "text/plain": [
              "19"
            ]
          },
          "metadata": {},
          "execution_count": 42
        }
      ]
    },
    {
      "cell_type": "code",
      "source": [
        "# same for the negative indexing\n",
        "b=np.array([[1,2,5],\n",
        "            [8,7,4]])\n",
        "# starts from (-1,-1) is the last number same goes in right to left direction\n",
        "b[-1,-1]"
      ],
      "metadata": {
        "colab": {
          "base_uri": "https://localhost:8080/"
        },
        "id": "q1sSievGQH7r",
        "outputId": "c53fef8b-6323-40ae-d833-637461036424"
      },
      "execution_count": 43,
      "outputs": [
        {
          "output_type": "execute_result",
          "data": {
            "text/plain": [
              "4"
            ]
          },
          "metadata": {},
          "execution_count": 43
        }
      ]
    },
    {
      "cell_type": "code",
      "source": [
        "b=np.array([[1,2,3]\n",
        "         ,[4,5,6]\n",
        "         ,[7,8,9]\n",
        "         ,[10,11,12]])\n",
        "b"
      ],
      "metadata": {
        "colab": {
          "base_uri": "https://localhost:8080/"
        },
        "id": "hPF43VtYTFMq",
        "outputId": "79561d55-736e-4c1c-d198-802c3b357477"
      },
      "execution_count": 51,
      "outputs": [
        {
          "output_type": "execute_result",
          "data": {
            "text/plain": [
              "array([[ 1,  2,  3],\n",
              "       [ 4,  5,  6],\n",
              "       [ 7,  8,  9],\n",
              "       [10, 11, 12]])"
            ]
          },
          "metadata": {},
          "execution_count": 51
        }
      ]
    },
    {
      "cell_type": "code",
      "source": [
        "b[0:2:2]\n",
        "# start with 0 incl 1st number and end upto last not incl last\n",
        "# step 2 is upto [4,5,6] so its not including "
      ],
      "metadata": {
        "colab": {
          "base_uri": "https://localhost:8080/"
        },
        "id": "8fdvzzdFVZ5Z",
        "outputId": "3c2c66b6-2463-4496-903e-4b5cb2eee763"
      },
      "execution_count": 59,
      "outputs": [
        {
          "output_type": "execute_result",
          "data": {
            "text/plain": [
              "array([[1, 2, 3]])"
            ]
          },
          "metadata": {},
          "execution_count": 59
        }
      ]
    },
    {
      "cell_type": "code",
      "source": [
        ""
      ],
      "metadata": {
        "id": "CPWM8dT5Wh7L"
      },
      "execution_count": null,
      "outputs": []
    }
  ]
}