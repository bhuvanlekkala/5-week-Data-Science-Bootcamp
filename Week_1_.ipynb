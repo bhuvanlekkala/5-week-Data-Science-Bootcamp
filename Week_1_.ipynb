{
  "nbformat": 4,
  "nbformat_minor": 0,
  "metadata": {
    "colab": {
      "name": "Week 1 .ipynb",
      "provenance": [],
      "authorship_tag": "ABX9TyMRG23CWzqgHtdYOU83JAyl",
      "include_colab_link": true
    },
    "kernelspec": {
      "name": "python3",
      "display_name": "Python 3"
    },
    "language_info": {
      "name": "python"
    }
  },
  "cells": [
    {
      "cell_type": "markdown",
      "metadata": {
        "id": "view-in-github",
        "colab_type": "text"
      },
      "source": [
        "<a href=\"https://colab.research.google.com/github/bhuvanlekkala/5-week-Data-Science-Bootcamp/blob/main/Week_1_.ipynb\" target=\"_parent\"><img src=\"https://colab.research.google.com/assets/colab-badge.svg\" alt=\"Open In Colab\"/></a>"
      ]
    },
    {
      "cell_type": "markdown",
      "source": [
        "\n",
        "**Data Analysis**\n",
        " a method of collecting and organizing the data and if required manipulating the data so that one can derive some useful information from the data\n"
      ],
      "metadata": {
        "id": "Mn5R_CutMLTM"
      }
    },
    {
      "cell_type": "markdown",
      "source": [
        "**Pandas**\n",
        "a tool in Python that helps you collect (or read) the data from a file, organize it in a tabular format, manipulate and clean the data if required to derive the insightful information from the data."
      ],
      "metadata": {
        "id": "EkaVKSaIrUc-"
      }
    },
    {
      "cell_type": "markdown",
      "source": [
        "tool used by data scientists to:\n",
        "read,\n",
        "write,\n",
        "manipulate, and \n",
        "analyse the data for large no of millions and rows"
      ],
      "metadata": {
        "id": "_W4oAirtr8Gv"
      }
    },
    {
      "cell_type": "code",
      "source": [
        "# import pandas lib as anu other using np shortcut\n",
        "import pandas as pd\n",
        "# create a dictiobary with key and value as we do in  week 0\n",
        "b={\"one\":1,\"two\":2,\"four\":4,\"five\":5,\"six\":6,\"seven\":7}\n",
        "# series is a 1-D array can hold any data type may be mixed and its like excel(Table)\n",
        "pd.Series(b)\n",
        "# cann have int,float etc "
      ],
      "metadata": {
        "colab": {
          "base_uri": "https://localhost:8080/"
        },
        "id": "NNcPZ_N2r--3",
        "outputId": "354e3c98-bcc2-4a69-dbf2-b0b51159df3e"
      },
      "execution_count": null,
      "outputs": [
        {
          "output_type": "execute_result",
          "data": {
            "text/plain": [
              "dict"
            ]
          },
          "metadata": {},
          "execution_count": 7
        }
      ]
    },
    {
      "cell_type": "code",
      "source": [
        "import pandas as pd\n",
        "# python list is created\n",
        "data=[[1006,'achuth',20],\n",
        "[1230,\"divesh\",50],\n",
        "[1430,'Bhaskar',60]]\n",
        "# data frame is 2-D, collections of series, structured with rows and columns\n",
        "# horizantal rows and vertical columns\n",
        "pd.DataFrame(data)"
      ],
      "metadata": {
        "colab": {
          "base_uri": "https://localhost:8080/",
          "height": 143
        },
        "id": "OEyEHlG-tVtx",
        "outputId": "b3939fb2-04f6-4af7-b02f-8b61c5aa1e49"
      },
      "execution_count": null,
      "outputs": [
        {
          "output_type": "execute_result",
          "data": {
            "text/plain": [
              "      0        1   2\n",
              "0  1006   achuth  20\n",
              "1  1230   divesh  50\n",
              "2  1430  Bhaskar  60"
            ],
            "text/html": [
              "\n",
              "  <div id=\"df-f8598d16-7f37-4b79-9a78-1e35ed2532a8\">\n",
              "    <div class=\"colab-df-container\">\n",
              "      <div>\n",
              "<style scoped>\n",
              "    .dataframe tbody tr th:only-of-type {\n",
              "        vertical-align: middle;\n",
              "    }\n",
              "\n",
              "    .dataframe tbody tr th {\n",
              "        vertical-align: top;\n",
              "    }\n",
              "\n",
              "    .dataframe thead th {\n",
              "        text-align: right;\n",
              "    }\n",
              "</style>\n",
              "<table border=\"1\" class=\"dataframe\">\n",
              "  <thead>\n",
              "    <tr style=\"text-align: right;\">\n",
              "      <th></th>\n",
              "      <th>0</th>\n",
              "      <th>1</th>\n",
              "      <th>2</th>\n",
              "    </tr>\n",
              "  </thead>\n",
              "  <tbody>\n",
              "    <tr>\n",
              "      <th>0</th>\n",
              "      <td>1006</td>\n",
              "      <td>achuth</td>\n",
              "      <td>20</td>\n",
              "    </tr>\n",
              "    <tr>\n",
              "      <th>1</th>\n",
              "      <td>1230</td>\n",
              "      <td>divesh</td>\n",
              "      <td>50</td>\n",
              "    </tr>\n",
              "    <tr>\n",
              "      <th>2</th>\n",
              "      <td>1430</td>\n",
              "      <td>Bhaskar</td>\n",
              "      <td>60</td>\n",
              "    </tr>\n",
              "  </tbody>\n",
              "</table>\n",
              "</div>\n",
              "      <button class=\"colab-df-convert\" onclick=\"convertToInteractive('df-f8598d16-7f37-4b79-9a78-1e35ed2532a8')\"\n",
              "              title=\"Convert this dataframe to an interactive table.\"\n",
              "              style=\"display:none;\">\n",
              "        \n",
              "  <svg xmlns=\"http://www.w3.org/2000/svg\" height=\"24px\"viewBox=\"0 0 24 24\"\n",
              "       width=\"24px\">\n",
              "    <path d=\"M0 0h24v24H0V0z\" fill=\"none\"/>\n",
              "    <path d=\"M18.56 5.44l.94 2.06.94-2.06 2.06-.94-2.06-.94-.94-2.06-.94 2.06-2.06.94zm-11 1L8.5 8.5l.94-2.06 2.06-.94-2.06-.94L8.5 2.5l-.94 2.06-2.06.94zm10 10l.94 2.06.94-2.06 2.06-.94-2.06-.94-.94-2.06-.94 2.06-2.06.94z\"/><path d=\"M17.41 7.96l-1.37-1.37c-.4-.4-.92-.59-1.43-.59-.52 0-1.04.2-1.43.59L10.3 9.45l-7.72 7.72c-.78.78-.78 2.05 0 2.83L4 21.41c.39.39.9.59 1.41.59.51 0 1.02-.2 1.41-.59l7.78-7.78 2.81-2.81c.8-.78.8-2.07 0-2.86zM5.41 20L4 18.59l7.72-7.72 1.47 1.35L5.41 20z\"/>\n",
              "  </svg>\n",
              "      </button>\n",
              "      \n",
              "  <style>\n",
              "    .colab-df-container {\n",
              "      display:flex;\n",
              "      flex-wrap:wrap;\n",
              "      gap: 12px;\n",
              "    }\n",
              "\n",
              "    .colab-df-convert {\n",
              "      background-color: #E8F0FE;\n",
              "      border: none;\n",
              "      border-radius: 50%;\n",
              "      cursor: pointer;\n",
              "      display: none;\n",
              "      fill: #1967D2;\n",
              "      height: 32px;\n",
              "      padding: 0 0 0 0;\n",
              "      width: 32px;\n",
              "    }\n",
              "\n",
              "    .colab-df-convert:hover {\n",
              "      background-color: #E2EBFA;\n",
              "      box-shadow: 0px 1px 2px rgba(60, 64, 67, 0.3), 0px 1px 3px 1px rgba(60, 64, 67, 0.15);\n",
              "      fill: #174EA6;\n",
              "    }\n",
              "\n",
              "    [theme=dark] .colab-df-convert {\n",
              "      background-color: #3B4455;\n",
              "      fill: #D2E3FC;\n",
              "    }\n",
              "\n",
              "    [theme=dark] .colab-df-convert:hover {\n",
              "      background-color: #434B5C;\n",
              "      box-shadow: 0px 1px 3px 1px rgba(0, 0, 0, 0.15);\n",
              "      filter: drop-shadow(0px 1px 2px rgba(0, 0, 0, 0.3));\n",
              "      fill: #FFFFFF;\n",
              "    }\n",
              "  </style>\n",
              "\n",
              "      <script>\n",
              "        const buttonEl =\n",
              "          document.querySelector('#df-f8598d16-7f37-4b79-9a78-1e35ed2532a8 button.colab-df-convert');\n",
              "        buttonEl.style.display =\n",
              "          google.colab.kernel.accessAllowed ? 'block' : 'none';\n",
              "\n",
              "        async function convertToInteractive(key) {\n",
              "          const element = document.querySelector('#df-f8598d16-7f37-4b79-9a78-1e35ed2532a8');\n",
              "          const dataTable =\n",
              "            await google.colab.kernel.invokeFunction('convertToInteractive',\n",
              "                                                     [key], {});\n",
              "          if (!dataTable) return;\n",
              "\n",
              "          const docLinkHtml = 'Like what you see? Visit the ' +\n",
              "            '<a target=\"_blank\" href=https://colab.research.google.com/notebooks/data_table.ipynb>data table notebook</a>'\n",
              "            + ' to learn more about interactive tables.';\n",
              "          element.innerHTML = '';\n",
              "          dataTable['output_type'] = 'display_data';\n",
              "          await google.colab.output.renderOutput(dataTable, element);\n",
              "          const docLink = document.createElement('div');\n",
              "          docLink.innerHTML = docLinkHtml;\n",
              "          element.appendChild(docLink);\n",
              "        }\n",
              "      </script>\n",
              "    </div>\n",
              "  </div>\n",
              "  "
            ]
          },
          "metadata": {},
          "execution_count": 14
        }
      ]
    },
    {
      "cell_type": "code",
      "source": [
        "import pandas as pd\n",
        "import numpy as np\n",
        "# import modules\n",
        "array=np.array([[1006,'achuth',20],\n",
        "            [1230,'divesh',50],\n",
        "            [1430,'Bhaskar',60]])\n",
        "# create array and values in it\n",
        "index_values=[\"first\",\"second\",\"third\"]\n",
        "# give attributes for rows\n",
        "column_values=[\"roll no\",\"name\",\"marks\"]\n",
        "# give attributes for columns\n",
        "df=pd.DataFrame(data=array,index=index_values,columns=column_values)\n",
        "# create  data frame  df \n",
        "print(df)\n",
        "# series is a column in data frame\n",
        "# printb df"
      ],
      "metadata": {
        "id": "B7fUgYKKxChw"
      },
      "execution_count": 6,
      "outputs": []
    },
    {
      "cell_type": "markdown",
      "source": [
        "**Read & write files**\n",
        "\n",
        "\n",
        "*   CSV is comma-separated-value is afile in which data is seperated by commas\n",
        "*   A CSV file stores tabular data (numbers and text) in plain text\n",
        "*   CSV (Comma Separated Values) is a simple file format used to store tabular data, such as a spreadsheet or database\n",
        "*   Just like excel it may be in text file\n",
        "\n",
        "\n",
        "\n"
      ],
      "metadata": {
        "id": "Jafxb7L31UVk"
      }
    },
    {
      "cell_type": "code",
      "source": [
        "import pandas as pd\n",
        "# python list is created\n",
        "data=[[1006,'achuth',20],\n",
        "[1230,\"divesh\",50],\n",
        "[1430,'Bhaskar',60]]\n",
        "# data frame is 2-D, collections of series, structured with rows and columns\n",
        "# horizantal rows and vertical columns\n",
        "pd.DataFrame(data)\n",
        "# converting data frame(df) to csv\n",
        "df.to_csv('bhuvan_csv',index=False)\n",
        "# index is false "
      ],
      "metadata": {
        "id": "Wd1E06nD3tOI"
      },
      "execution_count": 7,
      "outputs": []
    },
    {
      "cell_type": "markdown",
      "source": [
        "**Basic Methods/Attributes of Dataframe\n",
        "**"
      ],
      "metadata": {
        "id": "lSgJ8ccF70ED"
      }
    }
  ]
}